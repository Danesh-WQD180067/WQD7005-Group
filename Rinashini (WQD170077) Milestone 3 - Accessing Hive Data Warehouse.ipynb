{
 "cells": [
  {
   "cell_type": "code",
   "execution_count": null,
   "metadata": {},
   "outputs": [],
   "source": [
    "# Milestone 3 (Accessing Hive Data Warehouse)\n",
    "\n",
    "Name : Rinashini a/p Arunasalam Sukormaru  \n",
    "Matric ID : WQD170077 (17013672/1)    \n",
    "Github Link :  https://github.com/RinashiniA/WQD7005-Group"
   ]
  },
  {
   "cell_type": "code",
   "execution_count": 6,
   "metadata": {
    "scrolled": true
   },
   "outputs": [
    {
     "name": "stdout",
     "output_type": "stream",
     "text": [
      "Requirement already satisfied: hdfs in /Users/rinashiniarunasalam/anaconda3/lib/python3.6/site-packages (2.5.8)\n",
      "Requirement already satisfied: requests>=2.7.0 in /Users/rinashiniarunasalam/anaconda3/lib/python3.6/site-packages (from hdfs) (2.23.0)\n",
      "Requirement already satisfied: six>=1.9.0 in /Users/rinashiniarunasalam/anaconda3/lib/python3.6/site-packages (from hdfs) (1.11.0)\n",
      "Requirement already satisfied: docopt in /Users/rinashiniarunasalam/anaconda3/lib/python3.6/site-packages (from hdfs) (0.6.2)\n",
      "Requirement already satisfied: chardet<4,>=3.0.2 in /Users/rinashiniarunasalam/anaconda3/lib/python3.6/site-packages (from requests>=2.7.0->hdfs) (3.0.4)\n",
      "Requirement already satisfied: idna<3,>=2.5 in /Users/rinashiniarunasalam/anaconda3/lib/python3.6/site-packages (from requests>=2.7.0->hdfs) (2.6)\n",
      "Requirement already satisfied: urllib3!=1.25.0,!=1.25.1,<1.26,>=1.21.1 in /Users/rinashiniarunasalam/anaconda3/lib/python3.6/site-packages (from requests>=2.7.0->hdfs) (1.22)\n",
      "Requirement already satisfied: certifi>=2017.4.17 in /Users/rinashiniarunasalam/anaconda3/lib/python3.6/site-packages (from requests>=2.7.0->hdfs) (2018.4.16)\n",
      "\u001b[33mYou are using pip version 19.0.3, however version 20.2b1 is available.\n",
      "You should consider upgrading via the 'pip install --upgrade pip' command.\u001b[0m\n",
      "Requirement already satisfied: pyhive in /Users/rinashiniarunasalam/anaconda3/lib/python3.6/site-packages (0.6.2)\n",
      "Requirement already satisfied: future in /Users/rinashiniarunasalam/anaconda3/lib/python3.6/site-packages (from pyhive) (0.18.2)\n",
      "Requirement already satisfied: python-dateutil in /Users/rinashiniarunasalam/anaconda3/lib/python3.6/site-packages (from pyhive) (2.7.3)\n",
      "Requirement already satisfied: six>=1.5 in /Users/rinashiniarunasalam/anaconda3/lib/python3.6/site-packages (from python-dateutil->pyhive) (1.11.0)\n",
      "\u001b[33mYou are using pip version 19.0.3, however version 20.2b1 is available.\n",
      "You should consider upgrading via the 'pip install --upgrade pip' command.\u001b[0m\n",
      "Collecting thrift\n",
      "  Using cached https://files.pythonhosted.org/packages/97/1e/3284d19d7be99305eda145b8aa46b0c33244e4a496ec66440dac19f8274d/thrift-0.13.0.tar.gz\n",
      "Requirement already satisfied: six>=1.7.2 in /Users/rinashiniarunasalam/anaconda3/lib/python3.6/site-packages (from thrift) (1.11.0)\n",
      "Building wheels for collected packages: thrift\n",
      "  Building wheel for thrift (setup.py) ... \u001b[?25ldone\n",
      "\u001b[?25h  Stored in directory: /Users/rinashiniarunasalam/Library/Caches/pip/wheels/02/a2/46/689ccfcf40155c23edc7cdbd9de488611c8fdf49ff34b1706e\n",
      "Successfully built thrift\n",
      "Installing collected packages: thrift\n",
      "Successfully installed thrift-0.13.0\n",
      "\u001b[33mYou are using pip version 19.0.3, however version 20.2b1 is available.\n",
      "You should consider upgrading via the 'pip install --upgrade pip' command.\u001b[0m\n"
     ]
    }
   ],
   "source": [
    "# Installing hdfs, pyhive and thrift ( which have been installed)\n",
    "\n",
    "!pip install hdfs\n",
    "!pip install pyhive\n",
    "!pip install thrift"
   ]
  },
  {
   "cell_type": "code",
   "execution_count": 28,
   "metadata": {},
   "outputs": [
    {
     "name": "stdout",
     "output_type": "stream",
     "text": [
      "                               0      1      2      3      4\n",
      "0              5/22/2020          33.25  33.95  34.00  30.72\n",
      "1              5/21/2020          33.92  33.53  34.66  33.26\n",
      "2              5/20/2020          33.49   None  33.78   None\n",
      "3              5/19/2020          32.50  32.83  33.44  31.34\n",
      "4              5/18/2020          31.82  29.53  33.32  29.53\n",
      "...                          ...    ...    ...    ...    ...\n",
      "3660            2/9/2006          62.62  62.68  63.73  62.38\n",
      "3661            2/8/2006          62.55  62.96  63.44  62.29\n",
      "3662            2/7/2006          63.09  64.82  64.90  62.81\n",
      "3663            2/6/2006          65.11  66.35  66.50  64.77\n",
      "3664            2/3/2006          65.37  64.77  65.48  63.93\n",
      "\n",
      "[3665 rows x 5 columns]\n"
     ]
    }
   ],
   "source": [
    "from io import BytesIO as StringIO\n",
    "# For Data Lake\n",
    "from hdfs import InsecureClient\n",
    "# For Data Warehouse\n",
    "from pyhive import hive\n",
    "\n",
    "import pandas as pd\n",
    "\n",
    "\n",
    "# To access the file stored on HDFS\n",
    "with hdfs_interface.read('/wqd7005/source/000000_0', length=1024) as reader:\n",
    "    content=reader.read()\n",
    "\n",
    "\n",
    "#  Connecting to hive to access hivetables with python\n",
    "host_name=\"localhost\"\n",
    "port=10000\n",
    "conn=hive.Connection(host=host_name,port=port, auth='NOSASL')\n",
    "cur=conn.cursor()\n",
    "\n",
    "\n",
    "# Create External Table for source\n",
    "cur.execute(\"DROP TABLE IF EXISTS source\")\n",
    "cur.execute(\"CREATE EXTERNAL TABLE IF NOT EXISTS \\\n",
    "            source( tdate STRING, \\\n",
    "                    closing_price DECIMAL(5,2), \\\n",
    "                    open DECIMAL(5,2), \\\n",
    "                    daily_high DECIMAL(5,2), \\\n",
    "                    daily_low DECIMAL(5,2)) \\\n",
    "            ROW FORMAT DELIMITED FIELDS TERMINATED BY ',' \\\n",
    "            STORED AS TEXTFILE LOCATION '/wqd7005/source'\")\n",
    "\n",
    "# Accessing the file stored in the Hive data warehouse\n",
    "cur.execute(\"SELECT * FROM source\")\n",
    "fetch_df=cur.fetchall()\n",
    "df=pd.DataFrame(data=fetch_df)\n",
    "print(df)\n",
    "\n"
   ]
  },
  {
   "cell_type": "code",
   "execution_count": 32,
   "metadata": {},
   "outputs": [
    {
     "name": "stdout",
     "output_type": "stream",
     "text": [
      "Index(['Date', 'Closing Price', 'Open', 'Daily High', 'Daily Low'], dtype='object')\n",
      "                            Date Closing Price   Open Daily High Daily Low\n",
      "0              5/22/2020                 33.25  33.95      34.00     30.72\n",
      "1              5/21/2020                 33.92  33.53      34.66     33.26\n",
      "2              5/20/2020                 33.49   None      33.78      None\n",
      "3              5/19/2020                 32.50  32.83      33.44     31.34\n",
      "4              5/18/2020                 31.82  29.53      33.32     29.53\n",
      "...                          ...           ...    ...        ...       ...\n",
      "3660            2/9/2006                 62.62  62.68      63.73     62.38\n",
      "3661            2/8/2006                 62.55  62.96      63.44     62.29\n",
      "3662            2/7/2006                 63.09  64.82      64.90     62.81\n",
      "3663            2/6/2006                 65.11  66.35      66.50     64.77\n",
      "3664            2/3/2006                 65.37  64.77      65.48     63.93\n",
      "\n",
      "[3665 rows x 5 columns]\n"
     ]
    }
   ],
   "source": [
    "## Data Cleaning \n",
    "\n",
    "# Appending column names to the dataset\n",
    "df.columns = ['Date', 'Closing Price', 'Open', 'Daily High', 'Daily Low']\n",
    "print(df.columns)\n",
    "print(df)"
   ]
  },
  {
   "cell_type": "code",
   "execution_count": 34,
   "metadata": {},
   "outputs": [
    {
     "name": "stdout",
     "output_type": "stream",
     "text": [
      "(3665, 5)\n",
      "                         Date Closing Price   Open Daily High Daily Low\n",
      "1           5/21/2020                 33.92  33.53      34.66     33.26\n",
      "2           5/20/2020                 33.49   None      33.78      None\n",
      "3           5/19/2020                 32.50  32.83      33.44     31.34\n",
      "4           5/18/2020                 31.82  29.53      33.32     29.53\n",
      "5           5/15/2020                 29.43  27.64      29.92     27.24\n",
      "6           5/14/2020                 27.56  25.56      27.96     25.18\n",
      "7           5/13/2020                 25.29  25.30      26.45     24.79\n",
      "8           5/12/2020                 25.78  24.49      26.23     24.22\n",
      "9           5/11/2020                 24.14  24.49      25.58     23.67\n"
     ]
    }
   ],
   "source": [
    "# Viewing the missing values in the dataset\n",
    "\n",
    "print(df.shape)\n",
    "print(df[1:10])"
   ]
  },
  {
   "cell_type": "code",
   "execution_count": 36,
   "metadata": {},
   "outputs": [
    {
     "name": "stdout",
     "output_type": "stream",
     "text": [
      "Date              0\n",
      "Closing Price     0\n",
      "Open             62\n",
      "Daily High       19\n",
      "Daily Low        13\n",
      "dtype: int64\n"
     ]
    }
   ],
   "source": [
    "## Number of missing values in each column\n",
    "\n",
    "col_missing = df.isnull().sum()\n",
    "print(col_missing)"
   ]
  },
  {
   "cell_type": "code",
   "execution_count": 37,
   "metadata": {},
   "outputs": [
    {
     "name": "stdout",
     "output_type": "stream",
     "text": [
      "Date             datetime64[ns]\n",
      "Closing Price           float64\n",
      "Open                    float64\n",
      "Daily High              float64\n",
      "Daily Low               float64\n",
      "dtype: object\n"
     ]
    }
   ],
   "source": [
    "## Converting the first column to datatime format and the values to numeric form\n",
    "\n",
    "df['Date'] = pd.to_datetime(df['Date'])\n",
    "df['Closing Price'] = pd.to_numeric(df['Closing Price'])\n",
    "df['Open'] = pd.to_numeric(df['Open'])\n",
    "df['Daily High'] = pd.to_numeric(df['Daily High'])\n",
    "df['Daily Low'] = pd.to_numeric(df['Daily Low'])\n",
    "print(df.dtypes)"
   ]
  },
  {
   "cell_type": "code",
   "execution_count": 43,
   "metadata": {},
   "outputs": [
    {
     "name": "stdout",
     "output_type": "stream",
     "text": [
      "        Date  Closing Price   Open  Daily High  Daily Low\n",
      "1 2020-05-21          33.92  33.53       34.66      33.26\n",
      "2 2020-05-20          33.49  72.61       33.78      71.44\n",
      "3 2020-05-19          32.50  32.83       33.44      31.34\n",
      "4 2020-05-18          31.82  29.53       33.32      29.53\n",
      "5 2020-05-15          29.43  27.64       29.92      27.24\n",
      "6 2020-05-14          27.56  25.56       27.96      25.18\n",
      "7 2020-05-13          25.29  25.30       26.45      24.79\n",
      "8 2020-05-12          25.78  24.49       26.23      24.22\n",
      "9 2020-05-11          24.14  24.49       25.58      23.67\n"
     ]
    }
   ],
   "source": [
    "## Obtaining the mean values of each column to impute the missing values with its mean values \n",
    "\n",
    "df_None = df.dropna()\n",
    "Open_mean_value = round(df_None['Open'].mean(),2)\n",
    "df['Open'] = df['Open'].fillna(Open_mean_value)\n",
    "\n",
    "Daily_High_mean_value = round(df_None['Daily High'].mean(),2)\n",
    "df['Daily High'] = df['Daily High'].fillna(Daily_High_mean_value)\n",
    "\n",
    "Daily_Low_mean_value = round(df_None['Daily Low'].mean(),2)\n",
    "df['Daily Low'] = df['Daily Low'].fillna(Daily_Low_mean_value)\n",
    "\n",
    "print(df[1:10])"
   ]
  },
  {
   "cell_type": "code",
   "execution_count": 44,
   "metadata": {},
   "outputs": [],
   "source": [
    "# Exporting the cleaned dataset to a csv file\n",
    "\n",
    "df.to_csv(r'dataset_cleaned.csv', index=False)"
   ]
  }
 ],
 "metadata": {
  "kernelspec": {
   "display_name": "Python 3",
   "language": "python",
   "name": "python3"
  },
  "language_info": {
   "codemirror_mode": {
    "name": "ipython",
    "version": 3
   },
   "file_extension": ".py",
   "mimetype": "text/x-python",
   "name": "python",
   "nbconvert_exporter": "python",
   "pygments_lexer": "ipython3",
   "version": "3.7.6"
  }
 },
 "nbformat": 4,
 "nbformat_minor": 2
}
